{
 "cells": [
  {
   "cell_type": "markdown",
   "metadata": {},
   "source": [
    "# Uji Kelayakan Data Survey"
   ]
  },
  {
   "cell_type": "markdown",
   "metadata": {},
   "source": [
    "## 1. Test  Alpha Cronbach"
   ]
  },
  {
   "cell_type": "code",
   "execution_count": 88,
   "metadata": {},
   "outputs": [],
   "source": [
    "mydata<-read.csv('Data Survei2.csv')"
   ]
  },
  {
   "cell_type": "code",
   "execution_count": 89,
   "metadata": {},
   "outputs": [
    {
     "data": {
      "text/html": [
       "<table>\n",
       "<thead><tr><th scope=col>Q1</th><th scope=col>Q2</th><th scope=col>Q3</th><th scope=col>Q4</th><th scope=col>Q5</th><th scope=col>Q6</th><th scope=col>Q7</th><th scope=col>Q8</th></tr></thead>\n",
       "<tbody>\n",
       "\t<tr><td>5</td><td>3</td><td>5</td><td>2</td><td>1</td><td>5</td><td>2</td><td>3</td></tr>\n",
       "\t<tr><td>4</td><td>3</td><td>5</td><td>4</td><td>5</td><td>4</td><td>4</td><td>3</td></tr>\n",
       "\t<tr><td>3</td><td>2</td><td>3</td><td>4</td><td>5</td><td>3</td><td>2</td><td>2</td></tr>\n",
       "\t<tr><td>4</td><td>3</td><td>4</td><td>5</td><td>5</td><td>5</td><td>4</td><td>3</td></tr>\n",
       "\t<tr><td>5</td><td>4</td><td>4</td><td>4</td><td>5</td><td>5</td><td>4</td><td>4</td></tr>\n",
       "\t<tr><td>4</td><td>5</td><td>5</td><td>5</td><td>5</td><td>4</td><td>4</td><td>4</td></tr>\n",
       "</tbody>\n",
       "</table>\n"
      ],
      "text/latex": [
       "\\begin{tabular}{r|llllllll}\n",
       " Q1 & Q2 & Q3 & Q4 & Q5 & Q6 & Q7 & Q8\\\\\n",
       "\\hline\n",
       "\t 5 & 3 & 5 & 2 & 1 & 5 & 2 & 3\\\\\n",
       "\t 4 & 3 & 5 & 4 & 5 & 4 & 4 & 3\\\\\n",
       "\t 3 & 2 & 3 & 4 & 5 & 3 & 2 & 2\\\\\n",
       "\t 4 & 3 & 4 & 5 & 5 & 5 & 4 & 3\\\\\n",
       "\t 5 & 4 & 4 & 4 & 5 & 5 & 4 & 4\\\\\n",
       "\t 4 & 5 & 5 & 5 & 5 & 4 & 4 & 4\\\\\n",
       "\\end{tabular}\n"
      ],
      "text/markdown": [
       "\n",
       "| Q1 | Q2 | Q3 | Q4 | Q5 | Q6 | Q7 | Q8 |\n",
       "|---|---|---|---|---|---|---|---|\n",
       "| 5 | 3 | 5 | 2 | 1 | 5 | 2 | 3 |\n",
       "| 4 | 3 | 5 | 4 | 5 | 4 | 4 | 3 |\n",
       "| 3 | 2 | 3 | 4 | 5 | 3 | 2 | 2 |\n",
       "| 4 | 3 | 4 | 5 | 5 | 5 | 4 | 3 |\n",
       "| 5 | 4 | 4 | 4 | 5 | 5 | 4 | 4 |\n",
       "| 4 | 5 | 5 | 5 | 5 | 4 | 4 | 4 |\n",
       "\n"
      ],
      "text/plain": [
       "  Q1 Q2 Q3 Q4 Q5 Q6 Q7 Q8\n",
       "1 5  3  5  2  1  5  2  3 \n",
       "2 4  3  5  4  5  4  4  3 \n",
       "3 3  2  3  4  5  3  2  2 \n",
       "4 4  3  4  5  5  5  4  3 \n",
       "5 5  4  4  4  5  5  4  4 \n",
       "6 4  5  5  5  5  4  4  4 "
      ]
     },
     "metadata": {},
     "output_type": "display_data"
    }
   ],
   "source": [
    "head(mydata)"
   ]
  },
  {
   "cell_type": "code",
   "execution_count": 90,
   "metadata": {},
   "outputs": [
    {
     "name": "stderr",
     "output_type": "stream",
     "text": [
      "Warning message:\n",
      "\"package 'psych' was built under R version 3.6.3\""
     ]
    }
   ],
   "source": [
    "library('psych')"
   ]
  },
  {
   "cell_type": "code",
   "execution_count": 91,
   "metadata": {},
   "outputs": [
    {
     "data": {
      "text/plain": [
       "\n",
       "Reliability analysis   \n",
       "Call: alpha(x = mydata)\n",
       "\n",
       "  raw_alpha std.alpha G6(smc) average_r S/N   ase mean   sd median_r\n",
       "      0.76      0.76    0.78      0.29 3.2 0.017  4.1 0.56     0.28\n",
       "\n",
       " lower alpha upper     95% confidence boundaries\n",
       "0.72 0.76 0.79 \n",
       "\n",
       " Reliability if an item is dropped:\n",
       "   raw_alpha std.alpha G6(smc) average_r S/N alpha se var.r med.r\n",
       "Q1      0.74      0.76    0.76      0.31 3.1    0.018 0.020  0.30\n",
       "Q2      0.75      0.76    0.76      0.31 3.2    0.017 0.020  0.30\n",
       "Q3      0.73      0.73    0.75      0.28 2.8    0.019 0.022  0.27\n",
       "Q4      0.74      0.74    0.76      0.29 2.9    0.018 0.026  0.29\n",
       "Q5      0.73      0.73    0.74      0.28 2.7    0.019 0.019  0.27\n",
       "Q6      0.71      0.72    0.73      0.27 2.6    0.020 0.017  0.25\n",
       "Q7      0.71      0.72    0.73      0.27 2.6    0.020 0.021  0.25\n",
       "Q8      0.73      0.74    0.75      0.29 2.8    0.019 0.027  0.27\n",
       "\n",
       " Item statistics \n",
       "     n raw.r std.r r.cor r.drop mean   sd\n",
       "Q1 502  0.55  0.52  0.44   0.38  3.8 0.96\n",
       "Q2 502  0.54  0.51  0.41   0.35  3.4 1.03\n",
       "Q3 502  0.61  0.63  0.56   0.47  4.5 0.81\n",
       "Q4 502  0.60  0.59  0.50   0.42  4.2 1.00\n",
       "Q5 502  0.61  0.65  0.59   0.49  4.6 0.77\n",
       "Q6 502  0.67  0.70  0.66   0.54  4.4 0.87\n",
       "Q7 502  0.67  0.69  0.64   0.54  4.3 0.89\n",
       "Q8 502  0.64  0.62  0.53   0.47  3.6 1.06\n",
       "\n",
       "Non missing response frequency for each item\n",
       "      1    2    3    4    5 miss\n",
       "Q1 0.02 0.07 0.29 0.37 0.25    0\n",
       "Q2 0.05 0.11 0.35 0.33 0.16    0\n",
       "Q3 0.01 0.04 0.05 0.25 0.66    0\n",
       "Q4 0.03 0.04 0.12 0.29 0.52    0\n",
       "Q5 0.01 0.02 0.04 0.21 0.72    0\n",
       "Q6 0.02 0.02 0.09 0.27 0.60    0\n",
       "Q7 0.01 0.04 0.10 0.35 0.51    0\n",
       "Q8 0.04 0.09 0.31 0.32 0.25    0"
      ]
     },
     "metadata": {},
     "output_type": "display_data"
    },
    {
     "name": "stdout",
     "output_type": "stream",
     "text": [
      "[1] \"Q1 = Bisakah anda membedakan ms office dengan libre office?\"\n",
      "[1] \"Q2 = Mampukah anda membuat laporan (dokumen/presentasi)menggunakan libre office?\"\n",
      "[1] \"Q3 = Menurut anda microsoft powerpoit bisa memasukkan gambar/video?\"\n",
      "[1] \"Q4 = Apakah bisa menggunakan simbol matematika di microsoft excel?\"\n",
      "[1] \"Q5 = Apakah microsoft office sangat menunjang pendidikan di kampus?\"\n",
      "[1] \"Q6 = Apakah anda sering menggunakan microsoft office?\"\n",
      "[1] \"Q7 = Seberapa familiar andamenggunkan ms office?\"\n",
      "[1] \"Q8 = Bisakah anda membedakan antara  file docx dan odt?\"\n"
     ]
    }
   ],
   "source": [
    "alpha(mydata)\n",
    "print('Q1 = Bisakah anda membedakan ms office dengan libre office?')\n",
    "print('Q2 = Mampukah anda membuat laporan (dokumen/presentasi)menggunakan libre office?')\n",
    "print('Q3 = Menurut anda microsoft powerpoit bisa memasukkan gambar/video?')\n",
    "print('Q4 = Apakah bisa menggunakan simbol matematika di microsoft excel?')\n",
    "print('Q5 = Apakah microsoft office sangat menunjang pendidikan di kampus?')\n",
    "print('Q6 = Apakah anda sering menggunakan microsoft office?')\n",
    "print('Q7 = Seberapa familiar andamenggunkan ms office?')\n",
    "print('Q8 = Bisakah anda membedakan antara  file docx dan odt?')"
   ]
  },
  {
   "cell_type": "markdown",
   "metadata": {},
   "source": [
    "## 2. T-test"
   ]
  },
  {
   "cell_type": "code",
   "execution_count": null,
   "metadata": {},
   "outputs": [],
   "source": [
    "mydata<-read.csv('Data Survei2.csv')"
   ]
  },
  {
   "cell_type": "code",
   "execution_count": 2,
   "metadata": {},
   "outputs": [],
   "source": [
    "attach(mydata)"
   ]
  },
  {
   "cell_type": "code",
   "execution_count": 3,
   "metadata": {},
   "outputs": [
    {
     "data": {
      "text/html": [
       "<ol class=list-inline>\n",
       "\t<li>'Q1'</li>\n",
       "\t<li>'Q2'</li>\n",
       "\t<li>'Q3'</li>\n",
       "\t<li>'Q4'</li>\n",
       "\t<li>'Q5'</li>\n",
       "\t<li>'Q6'</li>\n",
       "\t<li>'Q7'</li>\n",
       "\t<li>'Q8'</li>\n",
       "</ol>\n"
      ],
      "text/latex": [
       "\\begin{enumerate*}\n",
       "\\item 'Q1'\n",
       "\\item 'Q2'\n",
       "\\item 'Q3'\n",
       "\\item 'Q4'\n",
       "\\item 'Q5'\n",
       "\\item 'Q6'\n",
       "\\item 'Q7'\n",
       "\\item 'Q8'\n",
       "\\end{enumerate*}\n"
      ],
      "text/markdown": [
       "1. 'Q1'\n",
       "2. 'Q2'\n",
       "3. 'Q3'\n",
       "4. 'Q4'\n",
       "5. 'Q5'\n",
       "6. 'Q6'\n",
       "7. 'Q7'\n",
       "8. 'Q8'\n",
       "\n",
       "\n"
      ],
      "text/plain": [
       "[1] \"Q1\" \"Q2\" \"Q3\" \"Q4\" \"Q5\" \"Q6\" \"Q7\" \"Q8\""
      ]
     },
     "metadata": {},
     "output_type": "display_data"
    }
   ],
   "source": [
    "names(mydata)"
   ]
  },
  {
   "cell_type": "code",
   "execution_count": 4,
   "metadata": {},
   "outputs": [
    {
     "data": {
      "text/html": [
       "<ol class=list-inline>\n",
       "\t<li>502</li>\n",
       "\t<li>8</li>\n",
       "</ol>\n"
      ],
      "text/latex": [
       "\\begin{enumerate*}\n",
       "\\item 502\n",
       "\\item 8\n",
       "\\end{enumerate*}\n"
      ],
      "text/markdown": [
       "1. 502\n",
       "2. 8\n",
       "\n",
       "\n"
      ],
      "text/plain": [
       "[1] 502   8"
      ]
     },
     "metadata": {},
     "output_type": "display_data"
    }
   ],
   "source": [
    "dim(mydata)"
   ]
  },
  {
   "cell_type": "code",
   "execution_count": 5,
   "metadata": {},
   "outputs": [
    {
     "data": {
      "text/plain": [
       "\n",
       "\tPaired t-test\n",
       "\n",
       "data:  Q1 and Q2\n",
       "t = 6.9748, df = 501, p-value = 9.728e-12\n",
       "alternative hypothesis: true difference in means is not equal to 0\n",
       "99 percent confidence interval:\n",
       " 0.1993146 0.4341516\n",
       "sample estimates:\n",
       "mean of the differences \n",
       "              0.3167331 \n"
      ]
     },
     "metadata": {},
     "output_type": "display_data"
    }
   ],
   "source": [
    "t.test(Q1,Q2,mu=0,alt=\"two.sided\",paired=T, conf.level=0.99)"
   ]
  },
  {
   "cell_type": "code",
   "execution_count": 6,
   "metadata": {},
   "outputs": [
    {
     "data": {
      "text/plain": [
       "\n",
       "\tPaired t-test\n",
       "\n",
       "data:  Q1 and Q3\n",
       "t = -14.011, df = 501, p-value < 2.2e-16\n",
       "alternative hypothesis: true difference in means is not equal to 0\n",
       "99 percent confidence interval:\n",
       " -0.8848653 -0.6091586\n",
       "sample estimates:\n",
       "mean of the differences \n",
       "              -0.747012 \n"
      ]
     },
     "metadata": {},
     "output_type": "display_data"
    }
   ],
   "source": [
    "t.test(Q1,Q3,mu=0,alt=\"two.sided\",paired=T, conf.level=0.99)"
   ]
  },
  {
   "cell_type": "code",
   "execution_count": 7,
   "metadata": {},
   "outputs": [
    {
     "data": {
      "text/plain": [
       "\n",
       "\tPaired t-test\n",
       "\n",
       "data:  Q1 and Q4\n",
       "t = -8.2525, df = 501, p-value = 1.382e-15\n",
       "alternative hypothesis: true difference in means is not equal to 0\n",
       "99 percent confidence interval:\n",
       " -0.6200335 -0.3241896\n",
       "sample estimates:\n",
       "mean of the differences \n",
       "             -0.4721116 \n"
      ]
     },
     "metadata": {},
     "output_type": "display_data"
    }
   ],
   "source": [
    "t.test(Q1,Q4,mu=0,alt=\"two.sided\",paired=T, conf.level=0.99)"
   ]
  },
  {
   "cell_type": "code",
   "execution_count": 9,
   "metadata": {},
   "outputs": [
    {
     "data": {
      "text/plain": [
       "\n",
       "\tPaired t-test\n",
       "\n",
       "data:  Q1 and Q5\n",
       "t = -15.65, df = 501, p-value < 2.2e-16\n",
       "alternative hypothesis: true difference in means is not equal to 0\n",
       "99 percent confidence interval:\n",
       " -0.9702403 -0.6950984\n",
       "sample estimates:\n",
       "mean of the differences \n",
       "             -0.8326693 \n"
      ]
     },
     "metadata": {},
     "output_type": "display_data"
    }
   ],
   "source": [
    "t.test(Q1,Q5,mu=0,alt=\"two.sided\",paired=T, conf.level=0.99)"
   ]
  },
  {
   "cell_type": "code",
   "execution_count": 10,
   "metadata": {},
   "outputs": [
    {
     "data": {
      "text/plain": [
       "\n",
       "\tPaired t-test\n",
       "\n",
       "data:  Q1 and Q6\n",
       "t = -12.441, df = 501, p-value < 2.2e-16\n",
       "alternative hypothesis: true difference in means is not equal to 0\n",
       "99 percent confidence interval:\n",
       " -0.7891822 -0.5175907\n",
       "sample estimates:\n",
       "mean of the differences \n",
       "             -0.6533865 \n"
      ]
     },
     "metadata": {},
     "output_type": "display_data"
    }
   ],
   "source": [
    "t.test(Q1,Q6,mu=0,alt=\"two.sided\",paired=T, conf.level=0.99)"
   ]
  },
  {
   "cell_type": "code",
   "execution_count": 11,
   "metadata": {},
   "outputs": [
    {
     "data": {
      "text/plain": [
       "\n",
       "\tPaired t-test\n",
       "\n",
       "data:  Q1 and Q7\n",
       "t = -10.142, df = 501, p-value < 2.2e-16\n",
       "alternative hypothesis: true difference in means is not equal to 0\n",
       "99 percent confidence interval:\n",
       " -0.6699766 -0.3977525\n",
       "sample estimates:\n",
       "mean of the differences \n",
       "             -0.5338645 \n"
      ]
     },
     "metadata": {},
     "output_type": "display_data"
    }
   ],
   "source": [
    "t.test(Q1,Q7,mu=0,alt=\"two.sided\",paired=T, conf.level=0.99)"
   ]
  },
  {
   "cell_type": "code",
   "execution_count": 12,
   "metadata": {},
   "outputs": [
    {
     "data": {
      "text/plain": [
       "\n",
       "\tPaired t-test\n",
       "\n",
       "data:  Q1 and Q8\n",
       "t = 2.3397, df = 501, p-value = 0.01969\n",
       "alternative hypothesis: true difference in means is not equal to 0\n",
       "99 percent confidence interval:\n",
       " -0.01214712  0.24322282\n",
       "sample estimates:\n",
       "mean of the differences \n",
       "              0.1155378 \n"
      ]
     },
     "metadata": {},
     "output_type": "display_data"
    }
   ],
   "source": [
    "t.test(Q1,Q8,mu=0,alt=\"two.sided\",paired=T, conf.level=0.99)"
   ]
  },
  {
   "cell_type": "code",
   "execution_count": 92,
   "metadata": {},
   "outputs": [
    {
     "data": {
      "text/plain": [
       "\n",
       "\tPaired t-test\n",
       "\n",
       "data:  Q2 and Q3\n",
       "t = -19.326, df = 501, p-value < 2.2e-16\n",
       "alternative hypothesis: true difference in means is not equal to 0\n",
       "99 percent confidence interval:\n",
       " -1.2060663 -0.9214237\n",
       "sample estimates:\n",
       "mean of the differences \n",
       "              -1.063745 \n"
      ]
     },
     "metadata": {},
     "output_type": "display_data"
    }
   ],
   "source": [
    "t.test(Q2,Q3,mu=0,alt=\"two.sided\",paired=T, conf.level=0.99)"
   ]
  },
  {
   "cell_type": "code",
   "execution_count": 93,
   "metadata": {},
   "outputs": [
    {
     "data": {
      "text/plain": [
       "\n",
       "\tPaired t-test\n",
       "\n",
       "data:  Q2 and Q4\n",
       "t = -13.685, df = 501, p-value < 2.2e-16\n",
       "alternative hypothesis: true difference in means is not equal to 0\n",
       "99 percent confidence interval:\n",
       " -0.9378862 -0.6398030\n",
       "sample estimates:\n",
       "mean of the differences \n",
       "             -0.7888446 \n"
      ]
     },
     "metadata": {},
     "output_type": "display_data"
    }
   ],
   "source": [
    "t.test(Q2,Q4,mu=0,alt=\"two.sided\",paired=T, conf.level=0.99)"
   ]
  },
  {
   "cell_type": "code",
   "execution_count": 94,
   "metadata": {},
   "outputs": [
    {
     "data": {
      "text/plain": [
       "\n",
       "\tPaired t-test\n",
       "\n",
       "data:  Q2 and Q5\n",
       "t = -21.107, df = 501, p-value < 2.2e-16\n",
       "alternative hypothesis: true difference in means is not equal to 0\n",
       "99 percent confidence interval:\n",
       " -1.290206 -1.008599\n",
       "sample estimates:\n",
       "mean of the differences \n",
       "              -1.149402 \n"
      ]
     },
     "metadata": {},
     "output_type": "display_data"
    }
   ],
   "source": [
    "t.test(Q2,Q5,mu=0,alt=\"two.sided\",paired=T, conf.level=0.99)"
   ]
  },
  {
   "cell_type": "code",
   "execution_count": 95,
   "metadata": {},
   "outputs": [
    {
     "data": {
      "text/plain": [
       "\n",
       "\tPaired t-test\n",
       "\n",
       "data:  Q2 and Q6\n",
       "t = -16.882, df = 501, p-value < 2.2e-16\n",
       "alternative hypothesis: true difference in means is not equal to 0\n",
       "99 percent confidence interval:\n",
       " -1.1187087 -0.8215304\n",
       "sample estimates:\n",
       "mean of the differences \n",
       "             -0.9701195 \n"
      ]
     },
     "metadata": {},
     "output_type": "display_data"
    }
   ],
   "source": [
    "t.test(Q2,Q6,mu=0,alt=\"two.sided\",paired=T, conf.level=0.99)"
   ]
  },
  {
   "cell_type": "code",
   "execution_count": 96,
   "metadata": {},
   "outputs": [
    {
     "data": {
      "text/plain": [
       "\n",
       "\tPaired t-test\n",
       "\n",
       "data:  Q2 and Q7\n",
       "t = -15.198, df = 501, p-value < 2.2e-16\n",
       "alternative hypothesis: true difference in means is not equal to 0\n",
       "99 percent confidence interval:\n",
       " -0.9953115 -0.7058837\n",
       "sample estimates:\n",
       "mean of the differences \n",
       "             -0.8505976 \n"
      ]
     },
     "metadata": {},
     "output_type": "display_data"
    }
   ],
   "source": [
    "t.test(Q2,Q7,mu=0,alt=\"two.sided\",paired=T, conf.level=0.99)"
   ]
  },
  {
   "cell_type": "code",
   "execution_count": 97,
   "metadata": {},
   "outputs": [
    {
     "data": {
      "text/plain": [
       "\n",
       "\tPaired t-test\n",
       "\n",
       "data:  Q2 and Q8\n",
       "t = -3.769, df = 501, p-value = 0.0001834\n",
       "alternative hypothesis: true difference in means is not equal to 0\n",
       "99 percent confidence interval:\n",
       " -0.33922289 -0.06316755\n",
       "sample estimates:\n",
       "mean of the differences \n",
       "             -0.2011952 \n"
      ]
     },
     "metadata": {},
     "output_type": "display_data"
    }
   ],
   "source": [
    "t.test(Q2,Q8,mu=0,alt=\"two.sided\",paired=T, conf.level=0.99)"
   ]
  },
  {
   "cell_type": "code",
   "execution_count": 98,
   "metadata": {},
   "outputs": [
    {
     "data": {
      "text/plain": [
       "\n",
       "\tPaired t-test\n",
       "\n",
       "data:  Q3 and Q4\n",
       "t = 6.3318, df = 501, p-value = 5.391e-10\n",
       "alternative hypothesis: true difference in means is not equal to 0\n",
       "99 percent confidence interval:\n",
       " 0.1626412 0.3871596\n",
       "sample estimates:\n",
       "mean of the differences \n",
       "              0.2749004 \n"
      ]
     },
     "metadata": {},
     "output_type": "display_data"
    }
   ],
   "source": [
    "t.test(Q3,Q4,mu=0,alt=\"two.sided\",paired=T, conf.level=0.99)"
   ]
  },
  {
   "cell_type": "code",
   "execution_count": 99,
   "metadata": {},
   "outputs": [
    {
     "data": {
      "text/plain": [
       "\n",
       "\tPaired t-test\n",
       "\n",
       "data:  Q3 and Q5\n",
       "t = -2.2537, df = 501, p-value = 0.02465\n",
       "alternative hypothesis: true difference in means is not equal to 0\n",
       "99 percent confidence interval:\n",
       " -0.18393313  0.01261839\n",
       "sample estimates:\n",
       "mean of the differences \n",
       "            -0.08565737 \n"
      ]
     },
     "metadata": {},
     "output_type": "display_data"
    }
   ],
   "source": [
    "t.test(Q3,Q5,mu=0,alt=\"two.sided\",paired=T, conf.level=0.99)"
   ]
  },
  {
   "cell_type": "code",
   "execution_count": 100,
   "metadata": {},
   "outputs": [
    {
     "data": {
      "text/plain": [
       "\n",
       "\tPaired t-test\n",
       "\n",
       "data:  Q3 and Q6\n",
       "t = 2.3757, df = 501, p-value = 0.01789\n",
       "alternative hypothesis: true difference in means is not equal to 0\n",
       "99 percent confidence interval:\n",
       " -0.008273433  0.195524429\n",
       "sample estimates:\n",
       "mean of the differences \n",
       "              0.0936255 \n"
      ]
     },
     "metadata": {},
     "output_type": "display_data"
    }
   ],
   "source": [
    "t.test(Q3,Q6,mu=0,alt=\"two.sided\",paired=T, conf.level=0.99)"
   ]
  },
  {
   "cell_type": "code",
   "execution_count": 101,
   "metadata": {},
   "outputs": [
    {
     "data": {
      "text/plain": [
       "\n",
       "\tPaired t-test\n",
       "\n",
       "data:  Q3 and Q7\n",
       "t = 5.0491, df = 501, p-value = 6.223e-07\n",
       "alternative hypothesis: true difference in means is not equal to 0\n",
       "99 percent confidence interval:\n",
       " 0.1039942 0.3223006\n",
       "sample estimates:\n",
       "mean of the differences \n",
       "              0.2131474 \n"
      ]
     },
     "metadata": {},
     "output_type": "display_data"
    }
   ],
   "source": [
    "t.test(Q3,Q7,mu=0,alt=\"two.sided\",paired=T, conf.level=0.99)"
   ]
  },
  {
   "cell_type": "code",
   "execution_count": 102,
   "metadata": {},
   "outputs": [
    {
     "data": {
      "text/plain": [
       "\n",
       "\tPaired t-test\n",
       "\n",
       "data:  Q3 and Q8\n",
       "t = 16.037, df = 501, p-value < 2.2e-16\n",
       "alternative hypothesis: true difference in means is not equal to 0\n",
       "99 percent confidence interval:\n",
       " 0.7234825 1.0016171\n",
       "sample estimates:\n",
       "mean of the differences \n",
       "              0.8625498 \n"
      ]
     },
     "metadata": {},
     "output_type": "display_data"
    }
   ],
   "source": [
    "t.test(Q3,Q8,mu=0,alt=\"two.sided\",paired=T, conf.level=0.99)"
   ]
  },
  {
   "cell_type": "code",
   "execution_count": 103,
   "metadata": {},
   "outputs": [
    {
     "data": {
      "text/plain": [
       "\n",
       "\tPaired t-test\n",
       "\n",
       "data:  Q4 and Q5\n",
       "t = -7.9011, df = 501, p-value = 1.767e-14\n",
       "alternative hypothesis: true difference in means is not equal to 0\n",
       "99 percent confidence interval:\n",
       " -0.4785521 -0.2425634\n",
       "sample estimates:\n",
       "mean of the differences \n",
       "             -0.3605578 \n"
      ]
     },
     "metadata": {},
     "output_type": "display_data"
    }
   ],
   "source": [
    "t.test(Q4,Q5,mu=0,alt=\"two.sided\",paired=T, conf.level=0.99)"
   ]
  },
  {
   "cell_type": "code",
   "execution_count": 104,
   "metadata": {},
   "outputs": [
    {
     "data": {
      "text/plain": [
       "\n",
       "\tPaired t-test\n",
       "\n",
       "data:  Q4 and Q6\n",
       "t = -3.6495, df = 501, p-value = 0.0002903\n",
       "alternative hypothesis: true difference in means is not equal to 0\n",
       "99 percent confidence interval:\n",
       " -0.30970772 -0.05284208\n",
       "sample estimates:\n",
       "mean of the differences \n",
       "             -0.1812749 \n"
      ]
     },
     "metadata": {},
     "output_type": "display_data"
    }
   ],
   "source": [
    "t.test(Q4,Q6,mu=0,alt=\"two.sided\",paired=T, conf.level=0.99)"
   ]
  },
  {
   "cell_type": "code",
   "execution_count": 31,
   "metadata": {},
   "outputs": [
    {
     "data": {
      "text/plain": [
       "\n",
       "\tPaired t-test\n",
       "\n",
       "data:  Q4 and Q3\n",
       "t = -6.3318, df = 501, p-value = 5.391e-10\n",
       "alternative hypothesis: true difference in means is not equal to 0\n",
       "99 percent confidence interval:\n",
       " -0.3871596 -0.1626412\n",
       "sample estimates:\n",
       "mean of the differences \n",
       "             -0.2749004 \n"
      ]
     },
     "metadata": {},
     "output_type": "display_data"
    }
   ],
   "source": [
    "t.test(Q4,Q7,mu=0,alt=\"two.sided\",paired=T, conf.level=0.99)"
   ]
  },
  {
   "cell_type": "code",
   "execution_count": 105,
   "metadata": {},
   "outputs": [
    {
     "data": {
      "text/plain": [
       "\n",
       "\tPaired t-test\n",
       "\n",
       "data:  Q4 and Q8\n",
       "t = 10.17, df = 501, p-value < 2.2e-16\n",
       "alternative hypothesis: true difference in means is not equal to 0\n",
       "99 percent confidence interval:\n",
       " 0.4382492 0.7370496\n",
       "sample estimates:\n",
       "mean of the differences \n",
       "              0.5876494 \n"
      ]
     },
     "metadata": {},
     "output_type": "display_data"
    }
   ],
   "source": [
    "t.test(Q4,Q8,mu=0,alt=\"two.sided\",paired=T, conf.level=0.99)"
   ]
  },
  {
   "cell_type": "code",
   "execution_count": 106,
   "metadata": {},
   "outputs": [
    {
     "data": {
      "text/plain": [
       "\n",
       "\tPaired t-test\n",
       "\n",
       "data:  Q5 and Q6\n",
       "t = 5.043, df = 501, p-value = 6.417e-07\n",
       "alternative hypothesis: true difference in means is not equal to 0\n",
       "99 percent confidence interval:\n",
       " 0.08735975 0.27120599\n",
       "sample estimates:\n",
       "mean of the differences \n",
       "              0.1792829 \n"
      ]
     },
     "metadata": {},
     "output_type": "display_data"
    }
   ],
   "source": [
    "t.test(Q5,Q6,mu=0,alt=\"two.sided\",paired=T, conf.level=0.99)"
   ]
  },
  {
   "cell_type": "code",
   "execution_count": 107,
   "metadata": {},
   "outputs": [
    {
     "data": {
      "text/plain": [
       "\n",
       "\tPaired t-test\n",
       "\n",
       "data:  Q5 and Q7\n",
       "t = 7.6753, df = 501, p-value = 8.7e-14\n",
       "alternative hypothesis: true difference in means is not equal to 0\n",
       "99 percent confidence interval:\n",
       " 0.1981421 0.3994674\n",
       "sample estimates:\n",
       "mean of the differences \n",
       "              0.2988048 \n"
      ]
     },
     "metadata": {},
     "output_type": "display_data"
    }
   ],
   "source": [
    "t.test(Q5,Q7,mu=0,alt=\"two.sided\",paired=T, conf.level=0.99)"
   ]
  },
  {
   "cell_type": "code",
   "execution_count": 108,
   "metadata": {},
   "outputs": [
    {
     "data": {
      "text/plain": [
       "\n",
       "\tPaired t-test\n",
       "\n",
       "data:  Q5 and Q8\n",
       "t = 18.614, df = 501, p-value < 2.2e-16\n",
       "alternative hypothesis: true difference in means is not equal to 0\n",
       "99 percent confidence interval:\n",
       " 0.8164892 1.0799251\n",
       "sample estimates:\n",
       "mean of the differences \n",
       "              0.9482072 \n"
      ]
     },
     "metadata": {},
     "output_type": "display_data"
    }
   ],
   "source": [
    "t.test(Q5,Q8,mu=0,alt=\"two.sided\",paired=T, conf.level=0.99)"
   ]
  },
  {
   "cell_type": "code",
   "execution_count": 109,
   "metadata": {},
   "outputs": [
    {
     "data": {
      "text/plain": [
       "\n",
       "\tPaired t-test\n",
       "\n",
       "data:  Q6 and Q7\n",
       "t = 3.3569, df = 501, p-value = 0.0008481\n",
       "alternative hypothesis: true difference in means is not equal to 0\n",
       "99 percent confidence interval:\n",
       " 0.02745948 0.21158434\n",
       "sample estimates:\n",
       "mean of the differences \n",
       "              0.1195219 \n"
      ]
     },
     "metadata": {},
     "output_type": "display_data"
    }
   ],
   "source": [
    "t.test(Q6,Q7,mu=0,alt=\"two.sided\",paired=T, conf.level=0.99)"
   ]
  },
  {
   "cell_type": "code",
   "execution_count": 110,
   "metadata": {},
   "outputs": [
    {
     "data": {
      "text/plain": [
       "\n",
       "\tPaired t-test\n",
       "\n",
       "data:  Q6 and Q8\n",
       "t = 14.862, df = 501, p-value < 2.2e-16\n",
       "alternative hypothesis: true difference in means is not equal to 0\n",
       "99 percent confidence interval:\n",
       " 0.6351495 0.9026991\n",
       "sample estimates:\n",
       "mean of the differences \n",
       "              0.7689243 \n"
      ]
     },
     "metadata": {},
     "output_type": "display_data"
    }
   ],
   "source": [
    "t.test(Q6,Q8,mu=0,alt=\"two.sided\",paired=T, conf.level=0.99)"
   ]
  },
  {
   "cell_type": "code",
   "execution_count": 111,
   "metadata": {},
   "outputs": [
    {
     "data": {
      "text/plain": [
       "\n",
       "\tPaired t-test\n",
       "\n",
       "data:  Q7 and Q8\n",
       "t = 13.034, df = 501, p-value < 2.2e-16\n",
       "alternative hypothesis: true difference in means is not equal to 0\n",
       "99 percent confidence interval:\n",
       " 0.5205779 0.7782269\n",
       "sample estimates:\n",
       "mean of the differences \n",
       "              0.6494024 \n"
      ]
     },
     "metadata": {},
     "output_type": "display_data"
    }
   ],
   "source": [
    "t.test(Q7,Q8,mu=0,alt=\"two.sided\",paired=T, conf.level=0.99)"
   ]
  },
  {
   "cell_type": "markdown",
   "metadata": {},
   "source": [
    "## 3. Principal Component Analisis"
   ]
  },
  {
   "cell_type": "code",
   "execution_count": 70,
   "metadata": {},
   "outputs": [],
   "source": [
    "mydata<-read.csv('Data Survei2.csv')"
   ]
  },
  {
   "cell_type": "code",
   "execution_count": 71,
   "metadata": {},
   "outputs": [
    {
     "data": {
      "text/html": [
       "<table>\n",
       "<thead><tr><th scope=col>Q1</th><th scope=col>Q2</th><th scope=col>Q3</th><th scope=col>Q4</th><th scope=col>Q5</th><th scope=col>Q6</th><th scope=col>Q7</th><th scope=col>Q8</th></tr></thead>\n",
       "<tbody>\n",
       "\t<tr><td>5</td><td>3</td><td>5</td><td>2</td><td>1</td><td>5</td><td>2</td><td>3</td></tr>\n",
       "\t<tr><td>4</td><td>3</td><td>5</td><td>4</td><td>5</td><td>4</td><td>4</td><td>3</td></tr>\n",
       "\t<tr><td>3</td><td>2</td><td>3</td><td>4</td><td>5</td><td>3</td><td>2</td><td>2</td></tr>\n",
       "\t<tr><td>4</td><td>3</td><td>4</td><td>5</td><td>5</td><td>5</td><td>4</td><td>3</td></tr>\n",
       "\t<tr><td>5</td><td>4</td><td>4</td><td>4</td><td>5</td><td>5</td><td>4</td><td>4</td></tr>\n",
       "\t<tr><td>4</td><td>5</td><td>5</td><td>5</td><td>5</td><td>4</td><td>4</td><td>4</td></tr>\n",
       "\t<tr><td>5</td><td>5</td><td>4</td><td>3</td><td>5</td><td>5</td><td>5</td><td>3</td></tr>\n",
       "\t<tr><td>5</td><td>3</td><td>5</td><td>5</td><td>5</td><td>5</td><td>5</td><td>4</td></tr>\n",
       "\t<tr><td>3</td><td>4</td><td>5</td><td>4</td><td>5</td><td>5</td><td>4</td><td>3</td></tr>\n",
       "\t<tr><td>5</td><td>4</td><td>3</td><td>5</td><td>5</td><td>4</td><td>4</td><td>5</td></tr>\n",
       "\t<tr><td>5</td><td>5</td><td>3</td><td>5</td><td>4</td><td>5</td><td>5</td><td>5</td></tr>\n",
       "\t<tr><td>2</td><td>3</td><td>5</td><td>5</td><td>5</td><td>5</td><td>5</td><td>3</td></tr>\n",
       "\t<tr><td>3</td><td>4</td><td>4</td><td>4</td><td>5</td><td>4</td><td>4</td><td>3</td></tr>\n",
       "\t<tr><td>5</td><td>5</td><td>5</td><td>5</td><td>5</td><td>5</td><td>5</td><td>5</td></tr>\n",
       "\t<tr><td>3</td><td>4</td><td>5</td><td>5</td><td>4</td><td>4</td><td>5</td><td>4</td></tr>\n",
       "\t<tr><td>4</td><td>4</td><td>5</td><td>5</td><td>5</td><td>5</td><td>5</td><td>4</td></tr>\n",
       "\t<tr><td>4</td><td>3</td><td>5</td><td>5</td><td>5</td><td>5</td><td>5</td><td>3</td></tr>\n",
       "\t<tr><td>4</td><td>4</td><td>5</td><td>5</td><td>5</td><td>5</td><td>4</td><td>4</td></tr>\n",
       "\t<tr><td>3</td><td>4</td><td>5</td><td>5</td><td>4</td><td>4</td><td>4</td><td>4</td></tr>\n",
       "\t<tr><td>3</td><td>3</td><td>5</td><td>4</td><td>5</td><td>5</td><td>5</td><td>3</td></tr>\n",
       "\t<tr><td>4</td><td>4</td><td>5</td><td>5</td><td>5</td><td>4</td><td>4</td><td>3</td></tr>\n",
       "\t<tr><td>5</td><td>4</td><td>5</td><td>4</td><td>5</td><td>5</td><td>5</td><td>4</td></tr>\n",
       "\t<tr><td>4</td><td>3</td><td>5</td><td>3</td><td>5</td><td>5</td><td>5</td><td>5</td></tr>\n",
       "\t<tr><td>5</td><td>2</td><td>4</td><td>3</td><td>3</td><td>5</td><td>5</td><td>5</td></tr>\n",
       "\t<tr><td>4</td><td>5</td><td>5</td><td>5</td><td>4</td><td>5</td><td>3</td><td>3</td></tr>\n",
       "\t<tr><td>3</td><td>3</td><td>5</td><td>4</td><td>5</td><td>5</td><td>5</td><td>5</td></tr>\n",
       "\t<tr><td>5</td><td>5</td><td>5</td><td>5</td><td>3</td><td>3</td><td>3</td><td>3</td></tr>\n",
       "\t<tr><td>4</td><td>4</td><td>4</td><td>4</td><td>4</td><td>4</td><td>4</td><td>4</td></tr>\n",
       "\t<tr><td>5</td><td>3</td><td>4</td><td>5</td><td>4</td><td>5</td><td>4</td><td>3</td></tr>\n",
       "\t<tr><td>3</td><td>2</td><td>4</td><td>2</td><td>5</td><td>4</td><td>3</td><td>3</td></tr>\n",
       "\t<tr><td>...</td><td>...</td><td>...</td><td>...</td><td>...</td><td>...</td><td>...</td><td>...</td></tr>\n",
       "\t<tr><td>5</td><td>4</td><td>4</td><td>5</td><td>3</td><td>3</td><td>5</td><td>3</td></tr>\n",
       "\t<tr><td>3</td><td>4</td><td>5</td><td>5</td><td>4</td><td>3</td><td>4</td><td>3</td></tr>\n",
       "\t<tr><td>4</td><td>4</td><td>5</td><td>5</td><td>4</td><td>4</td><td>2</td><td>2</td></tr>\n",
       "\t<tr><td>3</td><td>4</td><td>5</td><td>5</td><td>3</td><td>2</td><td>3</td><td>1</td></tr>\n",
       "\t<tr><td>4</td><td>4</td><td>5</td><td>4</td><td>4</td><td>3</td><td>2</td><td>3</td></tr>\n",
       "\t<tr><td>4</td><td>4</td><td>5</td><td>5</td><td>3</td><td>4</td><td>3</td><td>2</td></tr>\n",
       "\t<tr><td>5</td><td>4</td><td>5</td><td>4</td><td>5</td><td>4</td><td>4</td><td>4</td></tr>\n",
       "\t<tr><td>3</td><td>3</td><td>5</td><td>5</td><td>5</td><td>5</td><td>4</td><td>4</td></tr>\n",
       "\t<tr><td>4</td><td>4</td><td>4</td><td>5</td><td>5</td><td>5</td><td>4</td><td>4</td></tr>\n",
       "\t<tr><td>2</td><td>4</td><td>5</td><td>4</td><td>2</td><td>3</td><td>4</td><td>4</td></tr>\n",
       "\t<tr><td>3</td><td>3</td><td>4</td><td>4</td><td>4</td><td>2</td><td>3</td><td>3</td></tr>\n",
       "\t<tr><td>4</td><td>4</td><td>5</td><td>5</td><td>4</td><td>4</td><td>4</td><td>3</td></tr>\n",
       "\t<tr><td>4</td><td>3</td><td>4</td><td>4</td><td>4</td><td>5</td><td>4</td><td>3</td></tr>\n",
       "\t<tr><td>4</td><td>5</td><td>5</td><td>5</td><td>5</td><td>4</td><td>5</td><td>4</td></tr>\n",
       "\t<tr><td>4</td><td>5</td><td>5</td><td>5</td><td>4</td><td>3</td><td>3</td><td>3</td></tr>\n",
       "\t<tr><td>5</td><td>5</td><td>5</td><td>5</td><td>5</td><td>5</td><td>5</td><td>3</td></tr>\n",
       "\t<tr><td>2</td><td>2</td><td>4</td><td>3</td><td>4</td><td>1</td><td>1</td><td>1</td></tr>\n",
       "\t<tr><td>4</td><td>4</td><td>5</td><td>5</td><td>4</td><td>4</td><td>4</td><td>3</td></tr>\n",
       "\t<tr><td>4</td><td>5</td><td>5</td><td>5</td><td>5</td><td>5</td><td>5</td><td>5</td></tr>\n",
       "\t<tr><td>5</td><td>4</td><td>4</td><td>4</td><td>4</td><td>3</td><td>4</td><td>3</td></tr>\n",
       "\t<tr><td>3</td><td>4</td><td>4</td><td>4</td><td>3</td><td>3</td><td>2</td><td>2</td></tr>\n",
       "\t<tr><td>5</td><td>5</td><td>5</td><td>5</td><td>5</td><td>5</td><td>5</td><td>5</td></tr>\n",
       "\t<tr><td>4</td><td>5</td><td>5</td><td>5</td><td>5</td><td>5</td><td>4</td><td>2</td></tr>\n",
       "\t<tr><td>2</td><td>3</td><td>3</td><td>2</td><td>2</td><td>2</td><td>1</td><td>1</td></tr>\n",
       "\t<tr><td>3</td><td>4</td><td>4</td><td>4</td><td>5</td><td>3</td><td>2</td><td>2</td></tr>\n",
       "\t<tr><td>5</td><td>5</td><td>5</td><td>5</td><td>5</td><td>5</td><td>5</td><td>4</td></tr>\n",
       "\t<tr><td>4</td><td>5</td><td>5</td><td>5</td><td>4</td><td>4</td><td>5</td><td>2</td></tr>\n",
       "\t<tr><td>4</td><td>3</td><td>5</td><td>5</td><td>4</td><td>4</td><td>3</td><td>3</td></tr>\n",
       "\t<tr><td>4</td><td>4</td><td>5</td><td>5</td><td>4</td><td>4</td><td>3</td><td>2</td></tr>\n",
       "\t<tr><td>2</td><td>4</td><td>5</td><td>5</td><td>4</td><td>4</td><td>3</td><td>3</td></tr>\n",
       "</tbody>\n",
       "</table>\n"
      ],
      "text/latex": [
       "\\begin{tabular}{r|llllllll}\n",
       " Q1 & Q2 & Q3 & Q4 & Q5 & Q6 & Q7 & Q8\\\\\n",
       "\\hline\n",
       "\t 5 & 3 & 5 & 2 & 1 & 5 & 2 & 3\\\\\n",
       "\t 4 & 3 & 5 & 4 & 5 & 4 & 4 & 3\\\\\n",
       "\t 3 & 2 & 3 & 4 & 5 & 3 & 2 & 2\\\\\n",
       "\t 4 & 3 & 4 & 5 & 5 & 5 & 4 & 3\\\\\n",
       "\t 5 & 4 & 4 & 4 & 5 & 5 & 4 & 4\\\\\n",
       "\t 4 & 5 & 5 & 5 & 5 & 4 & 4 & 4\\\\\n",
       "\t 5 & 5 & 4 & 3 & 5 & 5 & 5 & 3\\\\\n",
       "\t 5 & 3 & 5 & 5 & 5 & 5 & 5 & 4\\\\\n",
       "\t 3 & 4 & 5 & 4 & 5 & 5 & 4 & 3\\\\\n",
       "\t 5 & 4 & 3 & 5 & 5 & 4 & 4 & 5\\\\\n",
       "\t 5 & 5 & 3 & 5 & 4 & 5 & 5 & 5\\\\\n",
       "\t 2 & 3 & 5 & 5 & 5 & 5 & 5 & 3\\\\\n",
       "\t 3 & 4 & 4 & 4 & 5 & 4 & 4 & 3\\\\\n",
       "\t 5 & 5 & 5 & 5 & 5 & 5 & 5 & 5\\\\\n",
       "\t 3 & 4 & 5 & 5 & 4 & 4 & 5 & 4\\\\\n",
       "\t 4 & 4 & 5 & 5 & 5 & 5 & 5 & 4\\\\\n",
       "\t 4 & 3 & 5 & 5 & 5 & 5 & 5 & 3\\\\\n",
       "\t 4 & 4 & 5 & 5 & 5 & 5 & 4 & 4\\\\\n",
       "\t 3 & 4 & 5 & 5 & 4 & 4 & 4 & 4\\\\\n",
       "\t 3 & 3 & 5 & 4 & 5 & 5 & 5 & 3\\\\\n",
       "\t 4 & 4 & 5 & 5 & 5 & 4 & 4 & 3\\\\\n",
       "\t 5 & 4 & 5 & 4 & 5 & 5 & 5 & 4\\\\\n",
       "\t 4 & 3 & 5 & 3 & 5 & 5 & 5 & 5\\\\\n",
       "\t 5 & 2 & 4 & 3 & 3 & 5 & 5 & 5\\\\\n",
       "\t 4 & 5 & 5 & 5 & 4 & 5 & 3 & 3\\\\\n",
       "\t 3 & 3 & 5 & 4 & 5 & 5 & 5 & 5\\\\\n",
       "\t 5 & 5 & 5 & 5 & 3 & 3 & 3 & 3\\\\\n",
       "\t 4 & 4 & 4 & 4 & 4 & 4 & 4 & 4\\\\\n",
       "\t 5 & 3 & 4 & 5 & 4 & 5 & 4 & 3\\\\\n",
       "\t 3 & 2 & 4 & 2 & 5 & 4 & 3 & 3\\\\\n",
       "\t ... & ... & ... & ... & ... & ... & ... & ...\\\\\n",
       "\t 5 & 4 & 4 & 5 & 3 & 3 & 5 & 3\\\\\n",
       "\t 3 & 4 & 5 & 5 & 4 & 3 & 4 & 3\\\\\n",
       "\t 4 & 4 & 5 & 5 & 4 & 4 & 2 & 2\\\\\n",
       "\t 3 & 4 & 5 & 5 & 3 & 2 & 3 & 1\\\\\n",
       "\t 4 & 4 & 5 & 4 & 4 & 3 & 2 & 3\\\\\n",
       "\t 4 & 4 & 5 & 5 & 3 & 4 & 3 & 2\\\\\n",
       "\t 5 & 4 & 5 & 4 & 5 & 4 & 4 & 4\\\\\n",
       "\t 3 & 3 & 5 & 5 & 5 & 5 & 4 & 4\\\\\n",
       "\t 4 & 4 & 4 & 5 & 5 & 5 & 4 & 4\\\\\n",
       "\t 2 & 4 & 5 & 4 & 2 & 3 & 4 & 4\\\\\n",
       "\t 3 & 3 & 4 & 4 & 4 & 2 & 3 & 3\\\\\n",
       "\t 4 & 4 & 5 & 5 & 4 & 4 & 4 & 3\\\\\n",
       "\t 4 & 3 & 4 & 4 & 4 & 5 & 4 & 3\\\\\n",
       "\t 4 & 5 & 5 & 5 & 5 & 4 & 5 & 4\\\\\n",
       "\t 4 & 5 & 5 & 5 & 4 & 3 & 3 & 3\\\\\n",
       "\t 5 & 5 & 5 & 5 & 5 & 5 & 5 & 3\\\\\n",
       "\t 2 & 2 & 4 & 3 & 4 & 1 & 1 & 1\\\\\n",
       "\t 4 & 4 & 5 & 5 & 4 & 4 & 4 & 3\\\\\n",
       "\t 4 & 5 & 5 & 5 & 5 & 5 & 5 & 5\\\\\n",
       "\t 5 & 4 & 4 & 4 & 4 & 3 & 4 & 3\\\\\n",
       "\t 3 & 4 & 4 & 4 & 3 & 3 & 2 & 2\\\\\n",
       "\t 5 & 5 & 5 & 5 & 5 & 5 & 5 & 5\\\\\n",
       "\t 4 & 5 & 5 & 5 & 5 & 5 & 4 & 2\\\\\n",
       "\t 2 & 3 & 3 & 2 & 2 & 2 & 1 & 1\\\\\n",
       "\t 3 & 4 & 4 & 4 & 5 & 3 & 2 & 2\\\\\n",
       "\t 5 & 5 & 5 & 5 & 5 & 5 & 5 & 4\\\\\n",
       "\t 4 & 5 & 5 & 5 & 4 & 4 & 5 & 2\\\\\n",
       "\t 4 & 3 & 5 & 5 & 4 & 4 & 3 & 3\\\\\n",
       "\t 4 & 4 & 5 & 5 & 4 & 4 & 3 & 2\\\\\n",
       "\t 2 & 4 & 5 & 5 & 4 & 4 & 3 & 3\\\\\n",
       "\\end{tabular}\n"
      ],
      "text/markdown": [
       "\n",
       "| Q1 | Q2 | Q3 | Q4 | Q5 | Q6 | Q7 | Q8 |\n",
       "|---|---|---|---|---|---|---|---|\n",
       "| 5 | 3 | 5 | 2 | 1 | 5 | 2 | 3 |\n",
       "| 4 | 3 | 5 | 4 | 5 | 4 | 4 | 3 |\n",
       "| 3 | 2 | 3 | 4 | 5 | 3 | 2 | 2 |\n",
       "| 4 | 3 | 4 | 5 | 5 | 5 | 4 | 3 |\n",
       "| 5 | 4 | 4 | 4 | 5 | 5 | 4 | 4 |\n",
       "| 4 | 5 | 5 | 5 | 5 | 4 | 4 | 4 |\n",
       "| 5 | 5 | 4 | 3 | 5 | 5 | 5 | 3 |\n",
       "| 5 | 3 | 5 | 5 | 5 | 5 | 5 | 4 |\n",
       "| 3 | 4 | 5 | 4 | 5 | 5 | 4 | 3 |\n",
       "| 5 | 4 | 3 | 5 | 5 | 4 | 4 | 5 |\n",
       "| 5 | 5 | 3 | 5 | 4 | 5 | 5 | 5 |\n",
       "| 2 | 3 | 5 | 5 | 5 | 5 | 5 | 3 |\n",
       "| 3 | 4 | 4 | 4 | 5 | 4 | 4 | 3 |\n",
       "| 5 | 5 | 5 | 5 | 5 | 5 | 5 | 5 |\n",
       "| 3 | 4 | 5 | 5 | 4 | 4 | 5 | 4 |\n",
       "| 4 | 4 | 5 | 5 | 5 | 5 | 5 | 4 |\n",
       "| 4 | 3 | 5 | 5 | 5 | 5 | 5 | 3 |\n",
       "| 4 | 4 | 5 | 5 | 5 | 5 | 4 | 4 |\n",
       "| 3 | 4 | 5 | 5 | 4 | 4 | 4 | 4 |\n",
       "| 3 | 3 | 5 | 4 | 5 | 5 | 5 | 3 |\n",
       "| 4 | 4 | 5 | 5 | 5 | 4 | 4 | 3 |\n",
       "| 5 | 4 | 5 | 4 | 5 | 5 | 5 | 4 |\n",
       "| 4 | 3 | 5 | 3 | 5 | 5 | 5 | 5 |\n",
       "| 5 | 2 | 4 | 3 | 3 | 5 | 5 | 5 |\n",
       "| 4 | 5 | 5 | 5 | 4 | 5 | 3 | 3 |\n",
       "| 3 | 3 | 5 | 4 | 5 | 5 | 5 | 5 |\n",
       "| 5 | 5 | 5 | 5 | 3 | 3 | 3 | 3 |\n",
       "| 4 | 4 | 4 | 4 | 4 | 4 | 4 | 4 |\n",
       "| 5 | 3 | 4 | 5 | 4 | 5 | 4 | 3 |\n",
       "| 3 | 2 | 4 | 2 | 5 | 4 | 3 | 3 |\n",
       "| ... | ... | ... | ... | ... | ... | ... | ... |\n",
       "| 5 | 4 | 4 | 5 | 3 | 3 | 5 | 3 |\n",
       "| 3 | 4 | 5 | 5 | 4 | 3 | 4 | 3 |\n",
       "| 4 | 4 | 5 | 5 | 4 | 4 | 2 | 2 |\n",
       "| 3 | 4 | 5 | 5 | 3 | 2 | 3 | 1 |\n",
       "| 4 | 4 | 5 | 4 | 4 | 3 | 2 | 3 |\n",
       "| 4 | 4 | 5 | 5 | 3 | 4 | 3 | 2 |\n",
       "| 5 | 4 | 5 | 4 | 5 | 4 | 4 | 4 |\n",
       "| 3 | 3 | 5 | 5 | 5 | 5 | 4 | 4 |\n",
       "| 4 | 4 | 4 | 5 | 5 | 5 | 4 | 4 |\n",
       "| 2 | 4 | 5 | 4 | 2 | 3 | 4 | 4 |\n",
       "| 3 | 3 | 4 | 4 | 4 | 2 | 3 | 3 |\n",
       "| 4 | 4 | 5 | 5 | 4 | 4 | 4 | 3 |\n",
       "| 4 | 3 | 4 | 4 | 4 | 5 | 4 | 3 |\n",
       "| 4 | 5 | 5 | 5 | 5 | 4 | 5 | 4 |\n",
       "| 4 | 5 | 5 | 5 | 4 | 3 | 3 | 3 |\n",
       "| 5 | 5 | 5 | 5 | 5 | 5 | 5 | 3 |\n",
       "| 2 | 2 | 4 | 3 | 4 | 1 | 1 | 1 |\n",
       "| 4 | 4 | 5 | 5 | 4 | 4 | 4 | 3 |\n",
       "| 4 | 5 | 5 | 5 | 5 | 5 | 5 | 5 |\n",
       "| 5 | 4 | 4 | 4 | 4 | 3 | 4 | 3 |\n",
       "| 3 | 4 | 4 | 4 | 3 | 3 | 2 | 2 |\n",
       "| 5 | 5 | 5 | 5 | 5 | 5 | 5 | 5 |\n",
       "| 4 | 5 | 5 | 5 | 5 | 5 | 4 | 2 |\n",
       "| 2 | 3 | 3 | 2 | 2 | 2 | 1 | 1 |\n",
       "| 3 | 4 | 4 | 4 | 5 | 3 | 2 | 2 |\n",
       "| 5 | 5 | 5 | 5 | 5 | 5 | 5 | 4 |\n",
       "| 4 | 5 | 5 | 5 | 4 | 4 | 5 | 2 |\n",
       "| 4 | 3 | 5 | 5 | 4 | 4 | 3 | 3 |\n",
       "| 4 | 4 | 5 | 5 | 4 | 4 | 3 | 2 |\n",
       "| 2 | 4 | 5 | 5 | 4 | 4 | 3 | 3 |\n",
       "\n"
      ],
      "text/plain": [
       "    Q1  Q2  Q3  Q4  Q5  Q6  Q7  Q8 \n",
       "1   5   3   5   2   1   5   2   3  \n",
       "2   4   3   5   4   5   4   4   3  \n",
       "3   3   2   3   4   5   3   2   2  \n",
       "4   4   3   4   5   5   5   4   3  \n",
       "5   5   4   4   4   5   5   4   4  \n",
       "6   4   5   5   5   5   4   4   4  \n",
       "7   5   5   4   3   5   5   5   3  \n",
       "8   5   3   5   5   5   5   5   4  \n",
       "9   3   4   5   4   5   5   4   3  \n",
       "10  5   4   3   5   5   4   4   5  \n",
       "11  5   5   3   5   4   5   5   5  \n",
       "12  2   3   5   5   5   5   5   3  \n",
       "13  3   4   4   4   5   4   4   3  \n",
       "14  5   5   5   5   5   5   5   5  \n",
       "15  3   4   5   5   4   4   5   4  \n",
       "16  4   4   5   5   5   5   5   4  \n",
       "17  4   3   5   5   5   5   5   3  \n",
       "18  4   4   5   5   5   5   4   4  \n",
       "19  3   4   5   5   4   4   4   4  \n",
       "20  3   3   5   4   5   5   5   3  \n",
       "21  4   4   5   5   5   4   4   3  \n",
       "22  5   4   5   4   5   5   5   4  \n",
       "23  4   3   5   3   5   5   5   5  \n",
       "24  5   2   4   3   3   5   5   5  \n",
       "25  4   5   5   5   4   5   3   3  \n",
       "26  3   3   5   4   5   5   5   5  \n",
       "27  5   5   5   5   3   3   3   3  \n",
       "28  4   4   4   4   4   4   4   4  \n",
       "29  5   3   4   5   4   5   4   3  \n",
       "30  3   2   4   2   5   4   3   3  \n",
       "... ... ... ... ... ... ... ... ...\n",
       "473 5   4   4   5   3   3   5   3  \n",
       "474 3   4   5   5   4   3   4   3  \n",
       "475 4   4   5   5   4   4   2   2  \n",
       "476 3   4   5   5   3   2   3   1  \n",
       "477 4   4   5   4   4   3   2   3  \n",
       "478 4   4   5   5   3   4   3   2  \n",
       "479 5   4   5   4   5   4   4   4  \n",
       "480 3   3   5   5   5   5   4   4  \n",
       "481 4   4   4   5   5   5   4   4  \n",
       "482 2   4   5   4   2   3   4   4  \n",
       "483 3   3   4   4   4   2   3   3  \n",
       "484 4   4   5   5   4   4   4   3  \n",
       "485 4   3   4   4   4   5   4   3  \n",
       "486 4   5   5   5   5   4   5   4  \n",
       "487 4   5   5   5   4   3   3   3  \n",
       "488 5   5   5   5   5   5   5   3  \n",
       "489 2   2   4   3   4   1   1   1  \n",
       "490 4   4   5   5   4   4   4   3  \n",
       "491 4   5   5   5   5   5   5   5  \n",
       "492 5   4   4   4   4   3   4   3  \n",
       "493 3   4   4   4   3   3   2   2  \n",
       "494 5   5   5   5   5   5   5   5  \n",
       "495 4   5   5   5   5   5   4   2  \n",
       "496 2   3   3   2   2   2   1   1  \n",
       "497 3   4   4   4   5   3   2   2  \n",
       "498 5   5   5   5   5   5   5   4  \n",
       "499 4   5   5   5   4   4   5   2  \n",
       "500 4   3   5   5   4   4   3   3  \n",
       "501 4   4   5   5   4   4   3   2  \n",
       "502 2   4   5   5   4   4   3   3  "
      ]
     },
     "metadata": {},
     "output_type": "display_data"
    }
   ],
   "source": [
    "mydata"
   ]
  },
  {
   "cell_type": "code",
   "execution_count": 72,
   "metadata": {},
   "outputs": [
    {
     "name": "stderr",
     "output_type": "stream",
     "text": [
      "The following objects are masked from mydata (pos = 3):\n",
      "\n",
      "    Q1, Q2, Q3, Q4, Q5, Q6, Q7, Q8\n",
      "\n"
     ]
    }
   ],
   "source": [
    "attach(mydata)"
   ]
  },
  {
   "cell_type": "code",
   "execution_count": 73,
   "metadata": {},
   "outputs": [],
   "source": [
    "# Define Variabels\n",
    "x <-cbind(Q1,Q2,Q3,Q4,Q5,Q6,Q7,Q8)"
   ]
  },
  {
   "cell_type": "code",
   "execution_count": 74,
   "metadata": {},
   "outputs": [
    {
     "data": {
      "text/plain": [
       "       Q1              Q2              Q3              Q4       \n",
       " Min.   :1.000   Min.   :1.000   Min.   :1.000   Min.   :1.000  \n",
       " 1st Qu.:3.000   1st Qu.:3.000   1st Qu.:4.000   1st Qu.:4.000  \n",
       " Median :4.000   Median :3.000   Median :5.000   Median :5.000  \n",
       " Mean   :3.765   Mean   :3.448   Mean   :4.512   Mean   :4.237  \n",
       " 3rd Qu.:4.000   3rd Qu.:4.000   3rd Qu.:5.000   3rd Qu.:5.000  \n",
       " Max.   :5.000   Max.   :5.000   Max.   :5.000   Max.   :5.000  \n",
       "       Q5              Q6              Q7              Q8       \n",
       " Min.   :1.000   Min.   :1.000   Min.   :1.000   Min.   :1.000  \n",
       " 1st Qu.:4.000   1st Qu.:4.000   1st Qu.:4.000   1st Qu.:3.000  \n",
       " Median :5.000   Median :5.000   Median :5.000   Median :4.000  \n",
       " Mean   :4.598   Mean   :4.418   Mean   :4.299   Mean   :3.649  \n",
       " 3rd Qu.:5.000   3rd Qu.:5.000   3rd Qu.:5.000   3rd Qu.:4.000  \n",
       " Max.   :5.000   Max.   :5.000   Max.   :5.000   Max.   :5.000  "
      ]
     },
     "metadata": {},
     "output_type": "display_data"
    },
    {
     "data": {
      "text/html": [
       "<table>\n",
       "<thead><tr><th></th><th scope=col>Q1</th><th scope=col>Q2</th><th scope=col>Q3</th><th scope=col>Q4</th><th scope=col>Q5</th><th scope=col>Q6</th><th scope=col>Q7</th><th scope=col>Q8</th></tr></thead>\n",
       "<tbody>\n",
       "\t<tr><th scope=row>Q1</th><td>1.00000000</td><td>0.48268914</td><td>0.1053413 </td><td>0.1507120 </td><td>0.06614022</td><td>0.17756505</td><td>0.1897844 </td><td>0.4030307 </td></tr>\n",
       "\t<tr><th scope=row>Q2</th><td>0.48268914</td><td>1.00000000</td><td>0.1231380 </td><td>0.1942427 </td><td>0.10469075</td><td>0.08896161</td><td>0.1522417 </td><td>0.3440536 </td></tr>\n",
       "\t<tr><th scope=row>Q3</th><td>0.10534132</td><td>0.12313802</td><td>1.0000000 </td><td>0.4411349 </td><td>0.42047995</td><td>0.44887545</td><td>0.3828604 </td><td>0.1885443 </td></tr>\n",
       "\t<tr><th scope=row>Q4</th><td>0.15071198</td><td>0.19424269</td><td>0.4411349 </td><td>1.0000000 </td><td>0.35559675</td><td>0.29713361</td><td>0.2663898 </td><td>0.2089801 </td></tr>\n",
       "\t<tr><th scope=row>Q5</th><td>0.06614022</td><td>0.10469075</td><td>0.4204799 </td><td>0.3555968 </td><td>1.00000000</td><td>0.53010949</td><td>0.4505158 </td><td>0.2469696 </td></tr>\n",
       "\t<tr><th scope=row>Q6</th><td>0.17756505</td><td>0.08896161</td><td>0.4488754 </td><td>0.2971336 </td><td>0.53010949</td><td>1.00000000</td><td>0.5857200 </td><td>0.2850459 </td></tr>\n",
       "\t<tr><th scope=row>Q7</th><td>0.18978440</td><td>0.15224173</td><td>0.3828604 </td><td>0.2663898 </td><td>0.45051581</td><td>0.58572002</td><td>1.0000000 </td><td>0.3491634 </td></tr>\n",
       "\t<tr><th scope=row>Q8</th><td>0.40303070</td><td>0.34405357</td><td>0.1885443 </td><td>0.2089801 </td><td>0.24696956</td><td>0.28504592</td><td>0.3491634 </td><td>1.0000000 </td></tr>\n",
       "</tbody>\n",
       "</table>\n"
      ],
      "text/latex": [
       "\\begin{tabular}{r|llllllll}\n",
       "  & Q1 & Q2 & Q3 & Q4 & Q5 & Q6 & Q7 & Q8\\\\\n",
       "\\hline\n",
       "\tQ1 & 1.00000000 & 0.48268914 & 0.1053413  & 0.1507120  & 0.06614022 & 0.17756505 & 0.1897844  & 0.4030307 \\\\\n",
       "\tQ2 & 0.48268914 & 1.00000000 & 0.1231380  & 0.1942427  & 0.10469075 & 0.08896161 & 0.1522417  & 0.3440536 \\\\\n",
       "\tQ3 & 0.10534132 & 0.12313802 & 1.0000000  & 0.4411349  & 0.42047995 & 0.44887545 & 0.3828604  & 0.1885443 \\\\\n",
       "\tQ4 & 0.15071198 & 0.19424269 & 0.4411349  & 1.0000000  & 0.35559675 & 0.29713361 & 0.2663898  & 0.2089801 \\\\\n",
       "\tQ5 & 0.06614022 & 0.10469075 & 0.4204799  & 0.3555968  & 1.00000000 & 0.53010949 & 0.4505158  & 0.2469696 \\\\\n",
       "\tQ6 & 0.17756505 & 0.08896161 & 0.4488754  & 0.2971336  & 0.53010949 & 1.00000000 & 0.5857200  & 0.2850459 \\\\\n",
       "\tQ7 & 0.18978440 & 0.15224173 & 0.3828604  & 0.2663898  & 0.45051581 & 0.58572002 & 1.0000000  & 0.3491634 \\\\\n",
       "\tQ8 & 0.40303070 & 0.34405357 & 0.1885443  & 0.2089801  & 0.24696956 & 0.28504592 & 0.3491634  & 1.0000000 \\\\\n",
       "\\end{tabular}\n"
      ],
      "text/markdown": [
       "\n",
       "| <!--/--> | Q1 | Q2 | Q3 | Q4 | Q5 | Q6 | Q7 | Q8 |\n",
       "|---|---|---|---|---|---|---|---|---|\n",
       "| Q1 | 1.00000000 | 0.48268914 | 0.1053413  | 0.1507120  | 0.06614022 | 0.17756505 | 0.1897844  | 0.4030307  |\n",
       "| Q2 | 0.48268914 | 1.00000000 | 0.1231380  | 0.1942427  | 0.10469075 | 0.08896161 | 0.1522417  | 0.3440536  |\n",
       "| Q3 | 0.10534132 | 0.12313802 | 1.0000000  | 0.4411349  | 0.42047995 | 0.44887545 | 0.3828604  | 0.1885443  |\n",
       "| Q4 | 0.15071198 | 0.19424269 | 0.4411349  | 1.0000000  | 0.35559675 | 0.29713361 | 0.2663898  | 0.2089801  |\n",
       "| Q5 | 0.06614022 | 0.10469075 | 0.4204799  | 0.3555968  | 1.00000000 | 0.53010949 | 0.4505158  | 0.2469696  |\n",
       "| Q6 | 0.17756505 | 0.08896161 | 0.4488754  | 0.2971336  | 0.53010949 | 1.00000000 | 0.5857200  | 0.2850459  |\n",
       "| Q7 | 0.18978440 | 0.15224173 | 0.3828604  | 0.2663898  | 0.45051581 | 0.58572002 | 1.0000000  | 0.3491634  |\n",
       "| Q8 | 0.40303070 | 0.34405357 | 0.1885443  | 0.2089801  | 0.24696956 | 0.28504592 | 0.3491634  | 1.0000000  |\n",
       "\n"
      ],
      "text/plain": [
       "   Q1         Q2         Q3        Q4        Q5         Q6         Q7       \n",
       "Q1 1.00000000 0.48268914 0.1053413 0.1507120 0.06614022 0.17756505 0.1897844\n",
       "Q2 0.48268914 1.00000000 0.1231380 0.1942427 0.10469075 0.08896161 0.1522417\n",
       "Q3 0.10534132 0.12313802 1.0000000 0.4411349 0.42047995 0.44887545 0.3828604\n",
       "Q4 0.15071198 0.19424269 0.4411349 1.0000000 0.35559675 0.29713361 0.2663898\n",
       "Q5 0.06614022 0.10469075 0.4204799 0.3555968 1.00000000 0.53010949 0.4505158\n",
       "Q6 0.17756505 0.08896161 0.4488754 0.2971336 0.53010949 1.00000000 0.5857200\n",
       "Q7 0.18978440 0.15224173 0.3828604 0.2663898 0.45051581 0.58572002 1.0000000\n",
       "Q8 0.40303070 0.34405357 0.1885443 0.2089801 0.24696956 0.28504592 0.3491634\n",
       "   Q8       \n",
       "Q1 0.4030307\n",
       "Q2 0.3440536\n",
       "Q3 0.1885443\n",
       "Q4 0.2089801\n",
       "Q5 0.2469696\n",
       "Q6 0.2850459\n",
       "Q7 0.3491634\n",
       "Q8 1.0000000"
      ]
     },
     "metadata": {},
     "output_type": "display_data"
    }
   ],
   "source": [
    "# Descriptive statistics\n",
    "summary(x)\n",
    "cor(x)"
   ]
  },
  {
   "cell_type": "code",
   "execution_count": 79,
   "metadata": {},
   "outputs": [],
   "source": [
    "# principal component analysis\n",
    "pca <-princomp(x,score=TRUE, cor=TRUE)"
   ]
  },
  {
   "cell_type": "code",
   "execution_count": 80,
   "metadata": {},
   "outputs": [
    {
     "data": {
      "text/plain": [
       "\n",
       "Loadings:\n",
       "   Comp.1 Comp.2 Comp.3 Comp.4 Comp.5 Comp.6 Comp.7 Comp.8\n",
       "Q1  0.251  0.578         0.265  0.317  0.385  0.463  0.262\n",
       "Q2  0.237  0.563 -0.221  0.355 -0.445 -0.287 -0.361 -0.202\n",
       "Q3  0.379 -0.248 -0.365  0.197  0.438 -0.623  0.166  0.122\n",
       "Q4  0.338        -0.693 -0.335         0.488 -0.206       \n",
       "Q5  0.395 -0.284               -0.689         0.442  0.300\n",
       "Q6  0.427 -0.236  0.310  0.238  0.101  0.198        -0.743\n",
       "Q7  0.417 -0.137  0.404  0.110  0.139  0.132 -0.615  0.466\n",
       "Q8  0.333  0.352  0.272 -0.764        -0.294        -0.113\n",
       "\n",
       "               Comp.1 Comp.2 Comp.3 Comp.4 Comp.5 Comp.6 Comp.7 Comp.8\n",
       "SS loadings     1.000  1.000  1.000  1.000  1.000  1.000  1.000  1.000\n",
       "Proportion Var  0.125  0.125  0.125  0.125  0.125  0.125  0.125  0.125\n",
       "Cumulative Var  0.125  0.250  0.375  0.500  0.625  0.750  0.875  1.000"
      ]
     },
     "metadata": {},
     "output_type": "display_data"
    }
   ],
   "source": [
    "# loading of principal components\n",
    "loadings(pca)"
   ]
  },
  {
   "cell_type": "code",
   "execution_count": 81,
   "metadata": {},
   "outputs": [
    {
     "data": {
      "image/png": "[encoded data removed]",
      "text/plain": [
       "Plot with title \"pca\""
      ]
     },
     "metadata": {},
     "output_type": "display_data"
    },
    {
     "data": {
      "image/png": "[encoded data removed]",
      "text/plain": [
       "Plot with title \"scree plot\""
      ]
     },
     "metadata": {},
     "output_type": "display_data"
    }
   ],
   "source": [
    "# scree plot of eigenvalues \n",
    "plot(pca)\n",
    "screeplot(pca, type=\"line\",\n",
    "main=\"scree plot\")"
   ]
  },
  {
   "cell_type": "code",
   "execution_count": 82,
   "metadata": {},
   "outputs": [
    {
     "data": {
      "image/png": "[encoded data removed]",
      "text/plain": [
       "plot without title"
      ]
     },
     "metadata": {},
     "output_type": "display_data"
    }
   ],
   "source": [
    "# Biplot of score variables\n",
    "biplot(pca)"
   ]
  },
  {
   "cell_type": "code",
   "execution_count": 83,
   "metadata": {},
   "outputs": [
    {
     "data": {
      "text/html": [
       "<table>\n",
       "<thead><tr><th scope=col>Comp.1</th><th scope=col>Comp.2</th><th scope=col>Comp.3</th><th scope=col>Comp.4</th><th scope=col>Comp.5</th><th scope=col>Comp.6</th><th scope=col>Comp.7</th><th scope=col>Comp.8</th></tr></thead>\n",
       "<tbody>\n",
       "\t<tr><td>-3.1620846 </td><td> 1.87112544</td><td> 0.16187473</td><td> 1.46499549</td><td> 3.71760445</td><td>-0.8882267 </td><td> 0.85888025</td><td>-2.4067721 </td></tr>\n",
       "\t<tr><td>-0.2390336 </td><td>-0.43567122</td><td>-0.37180012</td><td> 0.41839664</td><td> 0.02725638</td><td>-0.2295288 </td><td> 0.77874286</td><td> 0.6690319 </td></tr>\n",
       "\t<tr><td>-3.4139084 </td><td>-0.72163594</td><td>-0.82247296</td><td>-0.48606705</td><td>-1.44948254</td><td> 0.9356668 </td><td> 1.47182037</td><td> 0.2060679 </td></tr>\n",
       "\t<tr><td> 0.1253700 </td><td>-0.49793519</td><td>-0.25733176</td><td> 0.11651152</td><td>-0.37759308</td><td> 1.2542103 </td><td> 0.47494208</td><td>-0.4029143 </td></tr>\n",
       "\t<tr><td> 0.5945915 </td><td> 1.07558940</td><td> 0.51298503</td><td> 0.34659009</td><td>-0.42910925</td><td> 0.6093092 </td><td> 0.86469666</td><td>-0.3695708 </td></tr>\n",
       "\t<tr><td> 0.8738688 </td><td> 0.89522656</td><td>-1.23358837</td><td> 0.04777047</td><td>-0.74845306</td><td>-0.5768995 </td><td>-0.07329976</td><td> 0.1046190 </td></tr>\n",
       "\t<tr><td> 0.6422944 </td><td> 1.22727213</td><td> 1.18954433</td><td> 1.87452922</td><td>-0.79071888</td><td> 0.2707507 </td><td>-0.02922824</td><td> 0.1324960 </td></tr>\n",
       "\t<tr><td> 1.6394891 </td><td>-0.02494127</td><td> 0.04196745</td><td> 0.03469057</td><td> 0.71696577</td><td> 0.7567237 </td><td> 0.51823575</td><td> 0.4380727 </td></tr>\n",
       "\t<tr><td> 0.2234448 </td><td>-0.76186573</td><td>-0.26150188</td><td> 0.76222184</td><td>-0.61580358</td><td>-0.6781160 </td><td> 0.05304997</td><td>-0.6572269 </td></tr>\n",
       "\t<tr><td> 0.2878954 </td><td> 1.89273550</td><td> 0.17003577</td><td>-1.22975590</td><td>-0.99847639</td><td> 1.3567929 </td><td> 0.40427764</td><td> 0.1667607 </td></tr>\n",
       "</tbody>\n",
       "</table>\n"
      ],
      "text/latex": [
       "\\begin{tabular}{llllllll}\n",
       " Comp.1 & Comp.2 & Comp.3 & Comp.4 & Comp.5 & Comp.6 & Comp.7 & Comp.8\\\\\n",
       "\\hline\n",
       "\t -3.1620846  &  1.87112544 &  0.16187473 &  1.46499549 &  3.71760445 & -0.8882267  &  0.85888025 & -2.4067721 \\\\\n",
       "\t -0.2390336  & -0.43567122 & -0.37180012 &  0.41839664 &  0.02725638 & -0.2295288  &  0.77874286 &  0.6690319 \\\\\n",
       "\t -3.4139084  & -0.72163594 & -0.82247296 & -0.48606705 & -1.44948254 &  0.9356668  &  1.47182037 &  0.2060679 \\\\\n",
       "\t  0.1253700  & -0.49793519 & -0.25733176 &  0.11651152 & -0.37759308 &  1.2542103  &  0.47494208 & -0.4029143 \\\\\n",
       "\t  0.5945915  &  1.07558940 &  0.51298503 &  0.34659009 & -0.42910925 &  0.6093092  &  0.86469666 & -0.3695708 \\\\\n",
       "\t  0.8738688  &  0.89522656 & -1.23358837 &  0.04777047 & -0.74845306 & -0.5768995  & -0.07329976 &  0.1046190 \\\\\n",
       "\t  0.6422944  &  1.22727213 &  1.18954433 &  1.87452922 & -0.79071888 &  0.2707507  & -0.02922824 &  0.1324960 \\\\\n",
       "\t  1.6394891  & -0.02494127 &  0.04196745 &  0.03469057 &  0.71696577 &  0.7567237  &  0.51823575 &  0.4380727 \\\\\n",
       "\t  0.2234448  & -0.76186573 & -0.26150188 &  0.76222184 & -0.61580358 & -0.6781160  &  0.05304997 & -0.6572269 \\\\\n",
       "\t  0.2878954  &  1.89273550 &  0.17003577 & -1.22975590 & -0.99847639 &  1.3567929  &  0.40427764 &  0.1667607 \\\\\n",
       "\\end{tabular}\n"
      ],
      "text/markdown": [
       "\n",
       "| Comp.1 | Comp.2 | Comp.3 | Comp.4 | Comp.5 | Comp.6 | Comp.7 | Comp.8 |\n",
       "|---|---|---|---|---|---|---|---|\n",
       "| -3.1620846  |  1.87112544 |  0.16187473 |  1.46499549 |  3.71760445 | -0.8882267  |  0.85888025 | -2.4067721  |\n",
       "| -0.2390336  | -0.43567122 | -0.37180012 |  0.41839664 |  0.02725638 | -0.2295288  |  0.77874286 |  0.6690319  |\n",
       "| -3.4139084  | -0.72163594 | -0.82247296 | -0.48606705 | -1.44948254 |  0.9356668  |  1.47182037 |  0.2060679  |\n",
       "|  0.1253700  | -0.49793519 | -0.25733176 |  0.11651152 | -0.37759308 |  1.2542103  |  0.47494208 | -0.4029143  |\n",
       "|  0.5945915  |  1.07558940 |  0.51298503 |  0.34659009 | -0.42910925 |  0.6093092  |  0.86469666 | -0.3695708  |\n",
       "|  0.8738688  |  0.89522656 | -1.23358837 |  0.04777047 | -0.74845306 | -0.5768995  | -0.07329976 |  0.1046190  |\n",
       "|  0.6422944  |  1.22727213 |  1.18954433 |  1.87452922 | -0.79071888 |  0.2707507  | -0.02922824 |  0.1324960  |\n",
       "|  1.6394891  | -0.02494127 |  0.04196745 |  0.03469057 |  0.71696577 |  0.7567237  |  0.51823575 |  0.4380727  |\n",
       "|  0.2234448  | -0.76186573 | -0.26150188 |  0.76222184 | -0.61580358 | -0.6781160  |  0.05304997 | -0.6572269  |\n",
       "|  0.2878954  |  1.89273550 |  0.17003577 | -1.22975590 | -0.99847639 |  1.3567929  |  0.40427764 |  0.1667607  |\n",
       "\n"
      ],
      "text/plain": [
       "      Comp.1     Comp.2      Comp.3      Comp.4      Comp.5      Comp.6    \n",
       " [1,] -3.1620846  1.87112544  0.16187473  1.46499549  3.71760445 -0.8882267\n",
       " [2,] -0.2390336 -0.43567122 -0.37180012  0.41839664  0.02725638 -0.2295288\n",
       " [3,] -3.4139084 -0.72163594 -0.82247296 -0.48606705 -1.44948254  0.9356668\n",
       " [4,]  0.1253700 -0.49793519 -0.25733176  0.11651152 -0.37759308  1.2542103\n",
       " [5,]  0.5945915  1.07558940  0.51298503  0.34659009 -0.42910925  0.6093092\n",
       " [6,]  0.8738688  0.89522656 -1.23358837  0.04777047 -0.74845306 -0.5768995\n",
       " [7,]  0.6422944  1.22727213  1.18954433  1.87452922 -0.79071888  0.2707507\n",
       " [8,]  1.6394891 -0.02494127  0.04196745  0.03469057  0.71696577  0.7567237\n",
       " [9,]  0.2234448 -0.76186573 -0.26150188  0.76222184 -0.61580358 -0.6781160\n",
       "[10,]  0.2878954  1.89273550  0.17003577 -1.22975590 -0.99847639  1.3567929\n",
       "      Comp.7      Comp.8    \n",
       " [1,]  0.85888025 -2.4067721\n",
       " [2,]  0.77874286  0.6690319\n",
       " [3,]  1.47182037  0.2060679\n",
       " [4,]  0.47494208 -0.4029143\n",
       " [5,]  0.86469666 -0.3695708\n",
       " [6,] -0.07329976  0.1046190\n",
       " [7,] -0.02922824  0.1324960\n",
       " [8,]  0.51823575  0.4380727\n",
       " [9,]  0.05304997 -0.6572269\n",
       "[10,]  0.40427764  0.1667607"
      ]
     },
     "metadata": {},
     "output_type": "display_data"
    }
   ],
   "source": [
    "# scores of the components\n",
    "pca$scores[1:10,]"
   ]
  },
  {
   "cell_type": "code",
   "execution_count": 85,
   "metadata": {},
   "outputs": [],
   "source": [
    "# principal component analysis\n",
    "pca <-princomp(x, score=TRUE, cor=TRUE)"
   ]
  },
  {
   "cell_type": "code",
   "execution_count": 87,
   "metadata": {},
   "outputs": [
    {
     "data": {
      "text/plain": [
       "\n",
       "Loadings:\n",
       "   Comp.1 Comp.2 Comp.3 Comp.4 Comp.5 Comp.6 Comp.7 Comp.8\n",
       "Q1  0.251  0.578         0.265  0.317  0.385  0.463  0.262\n",
       "Q2  0.237  0.563 -0.221  0.355 -0.445 -0.287 -0.361 -0.202\n",
       "Q3  0.379 -0.248 -0.365  0.197  0.438 -0.623  0.166  0.122\n",
       "Q4  0.338        -0.693 -0.335         0.488 -0.206       \n",
       "Q5  0.395 -0.284               -0.689         0.442  0.300\n",
       "Q6  0.427 -0.236  0.310  0.238  0.101  0.198        -0.743\n",
       "Q7  0.417 -0.137  0.404  0.110  0.139  0.132 -0.615  0.466\n",
       "Q8  0.333  0.352  0.272 -0.764        -0.294        -0.113\n",
       "\n",
       "               Comp.1 Comp.2 Comp.3 Comp.4 Comp.5 Comp.6 Comp.7 Comp.8\n",
       "SS loadings     1.000  1.000  1.000  1.000  1.000  1.000  1.000  1.000\n",
       "Proportion Var  0.125  0.125  0.125  0.125  0.125  0.125  0.125  0.125\n",
       "Cumulative Var  0.125  0.250  0.375  0.500  0.625  0.750  0.875  1.000"
      ]
     },
     "metadata": {},
     "output_type": "display_data"
    }
   ],
   "source": [
    "# Loading of principal components\n",
    "loadings(pca)"
   ]
  },
  {
   "cell_type": "code",
   "execution_count": null,
   "metadata": {},
   "outputs": [],
   "source": []
  }
 ],
 "metadata": {
  "kernelspec": {
   "display_name": "R",
   "language": "R",
   "name": "ir"
  },
  "language_info": {
   "codemirror_mode": "r",
   "file_extension": ".r",
   "mimetype": "text/x-r-source",
   "name": "R",
   "pygments_lexer": "r",
   "version": "3.6.1"
  }
 },
 "nbformat": 4,
 "nbformat_minor": 4
}
